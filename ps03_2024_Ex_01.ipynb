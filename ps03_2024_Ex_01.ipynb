{
  "nbformat": 4,
  "nbformat_minor": 0,
  "metadata": {
    "colab": {
      "provenance": []
    },
    "kernelspec": {
      "name": "python3",
      "display_name": "Python 3"
    },
    "language_info": {
      "name": "python"
    }
  },
  "cells": [
    {
      "cell_type": "markdown",
      "source": [
        "\n",
        "# Install NLTK Library\n",
        "\n"
      ],
      "metadata": {
        "id": "8MIM8x5xbgla"
      }
    },
    {
      "cell_type": "code",
      "execution_count": 1,
      "metadata": {
        "colab": {
          "base_uri": "https://localhost:8080/"
        },
        "id": "GyBWkFW6azW_",
        "outputId": "859a112a-8b95-4fa7-edc1-dd4da1d41b64"
      },
      "outputs": [
        {
          "output_type": "stream",
          "name": "stdout",
          "text": [
            "Requirement already satisfied: nltk in /usr/local/lib/python3.10/dist-packages (3.8.1)\n",
            "Requirement already satisfied: click in /usr/local/lib/python3.10/dist-packages (from nltk) (8.1.7)\n",
            "Requirement already satisfied: joblib in /usr/local/lib/python3.10/dist-packages (from nltk) (1.4.2)\n",
            "Requirement already satisfied: regex>=2021.8.3 in /usr/local/lib/python3.10/dist-packages (from nltk) (2024.9.11)\n",
            "Requirement already satisfied: tqdm in /usr/local/lib/python3.10/dist-packages (from nltk) (4.66.6)\n"
          ]
        }
      ],
      "source": [
        "#install nltk library\n",
        "!pip install nltk"
      ]
    },
    {
      "cell_type": "markdown",
      "source": [
        "#Import the word_tokenize function from nltk.tokenize."
      ],
      "metadata": {
        "id": "KAOiHaGwcDWa"
      }
    },
    {
      "cell_type": "code",
      "source": [
        "#import necessary libraries\n",
        "import nltk\n",
        "from nltk.tokenize import word_tokenize\n",
        "from nltk.probability import FreqDist"
      ],
      "metadata": {
        "id": "2HgdT6KYboHg"
      },
      "execution_count": 2,
      "outputs": []
    },
    {
      "cell_type": "code",
      "source": [
        "#download nltk package\n",
        "nltk.download('punkt')"
      ],
      "metadata": {
        "colab": {
          "base_uri": "https://localhost:8080/"
        },
        "id": "4auVqv1Uda7H",
        "outputId": "2e17921c-39cc-4a92-b745-e679db4835aa"
      },
      "execution_count": 3,
      "outputs": [
        {
          "output_type": "stream",
          "name": "stderr",
          "text": [
            "[nltk_data] Downloading package punkt to /root/nltk_data...\n",
            "[nltk_data]   Unzipping tokenizers/punkt.zip.\n"
          ]
        },
        {
          "output_type": "execute_result",
          "data": {
            "text/plain": [
              "True"
            ]
          },
          "metadata": {},
          "execution_count": 3
        }
      ]
    },
    {
      "cell_type": "markdown",
      "source": [
        "#Create a variable ‘text’ that contains a paragraph of at least 4 sentences about any topic of your choice."
      ],
      "metadata": {
        "id": "9ElsnWYjcS1D"
      }
    },
    {
      "cell_type": "code",
      "source": [
        "text = \"There was no possibility of taking a walk that day.  We had been wandering, indeed, in the leafless shrubbery an hour in the morning; but since dinner (Mrs. Reed, when there was no company, dined early) the cold winter wind had brought with it clouds so sombre, and a rain so penetrating, that further out-door exercise was now out of the question\""
      ],
      "metadata": {
        "id": "dAsN0AuccL1x"
      },
      "execution_count": 4,
      "outputs": []
    },
    {
      "cell_type": "markdown",
      "source": [
        "#Use the word_tokenize function to tokenize the text into words."
      ],
      "metadata": {
        "id": "Yw-01oKhcTI1"
      }
    },
    {
      "cell_type": "code",
      "source": [
        "#using word_tokenize to convert text to words\n",
        "tokens = word_tokenize(text)"
      ],
      "metadata": {
        "id": "0PlOZNFIdPM4"
      },
      "execution_count": 5,
      "outputs": []
    },
    {
      "cell_type": "markdown",
      "source": [
        "#Print the list of tokens."
      ],
      "metadata": {
        "id": "BpcyU2gGcTXy"
      }
    },
    {
      "cell_type": "code",
      "source": [
        "print(\"List of Tokens:\", tokens)"
      ],
      "metadata": {
        "colab": {
          "base_uri": "https://localhost:8080/"
        },
        "id": "HV9LFOwSccz4",
        "outputId": "7a325a19-56c7-4567-c1df-0f0f797743a7"
      },
      "execution_count": 6,
      "outputs": [
        {
          "output_type": "stream",
          "name": "stdout",
          "text": [
            "List of Tokens: ['There', 'was', 'no', 'possibility', 'of', 'taking', 'a', 'walk', 'that', 'day', '.', 'We', 'had', 'been', 'wandering', ',', 'indeed', ',', 'in', 'the', 'leafless', 'shrubbery', 'an', 'hour', 'in', 'the', 'morning', ';', 'but', 'since', 'dinner', '(', 'Mrs.', 'Reed', ',', 'when', 'there', 'was', 'no', 'company', ',', 'dined', 'early', ')', 'the', 'cold', 'winter', 'wind', 'had', 'brought', 'with', 'it', 'clouds', 'so', 'sombre', ',', 'and', 'a', 'rain', 'so', 'penetrating', ',', 'that', 'further', 'out-door', 'exercise', 'was', 'now', 'out', 'of', 'the', 'question']\n"
          ]
        }
      ]
    },
    {
      "cell_type": "markdown",
      "source": [
        "#Count the number of tokens in the text."
      ],
      "metadata": {
        "id": "xccLnJxrdylN"
      }
    },
    {
      "cell_type": "code",
      "source": [
        "num_tokens = len(tokens)\n",
        "print(\"Number of Tokens:\", num_tokens)"
      ],
      "metadata": {
        "colab": {
          "base_uri": "https://localhost:8080/"
        },
        "id": "vGGP42prduSX",
        "outputId": "475d91f1-e691-418c-ff2b-43654a3b59db"
      },
      "execution_count": 7,
      "outputs": [
        {
          "output_type": "stream",
          "name": "stdout",
          "text": [
            "Number of Tokens: 72\n"
          ]
        }
      ]
    },
    {
      "cell_type": "markdown",
      "source": [
        "# Identify the frequency of each token using nltk.FreqDist or other function."
      ],
      "metadata": {
        "id": "264lDHF1d8h5"
      }
    },
    {
      "cell_type": "code",
      "source": [
        "#Find and print the frequency distribution of token\n",
        "freq_dist = FreqDist(tokens)\n",
        "print(\"Token Frequency\")\n",
        "for word, frequency in freq_dist.items():\n",
        "    print(f\"{word}: {frequency}\")\n"
      ],
      "metadata": {
        "colab": {
          "base_uri": "https://localhost:8080/"
        },
        "id": "GesaVPZmd6IF",
        "outputId": "a7fb2943-1033-487a-a7a3-921ad1cf8bd1"
      },
      "execution_count": 8,
      "outputs": [
        {
          "output_type": "stream",
          "name": "stdout",
          "text": [
            "Token Frequency\n",
            "There: 1\n",
            "was: 3\n",
            "no: 2\n",
            "possibility: 1\n",
            "of: 2\n",
            "taking: 1\n",
            "a: 2\n",
            "walk: 1\n",
            "that: 2\n",
            "day: 1\n",
            ".: 1\n",
            "We: 1\n",
            "had: 2\n",
            "been: 1\n",
            "wandering: 1\n",
            ",: 6\n",
            "indeed: 1\n",
            "in: 2\n",
            "the: 4\n",
            "leafless: 1\n",
            "shrubbery: 1\n",
            "an: 1\n",
            "hour: 1\n",
            "morning: 1\n",
            ";: 1\n",
            "but: 1\n",
            "since: 1\n",
            "dinner: 1\n",
            "(: 1\n",
            "Mrs.: 1\n",
            "Reed: 1\n",
            "when: 1\n",
            "there: 1\n",
            "company: 1\n",
            "dined: 1\n",
            "early: 1\n",
            "): 1\n",
            "cold: 1\n",
            "winter: 1\n",
            "wind: 1\n",
            "brought: 1\n",
            "with: 1\n",
            "it: 1\n",
            "clouds: 1\n",
            "so: 2\n",
            "sombre: 1\n",
            "and: 1\n",
            "rain: 1\n",
            "penetrating: 1\n",
            "further: 1\n",
            "out-door: 1\n",
            "exercise: 1\n",
            "now: 1\n",
            "out: 1\n",
            "question: 1\n"
          ]
        }
      ]
    },
    {
      "cell_type": "code",
      "source": [],
      "metadata": {
        "id": "Vb34kpdneFD9"
      },
      "execution_count": null,
      "outputs": []
    }
  ]
}